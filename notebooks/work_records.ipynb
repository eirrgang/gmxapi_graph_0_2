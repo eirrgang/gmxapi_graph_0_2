{
 "cells": [
  {
   "cell_type": "code",
   "execution_count": 2,
   "metadata": {
    "collapsed": true,
    "pycharm": {
     "is_executing": false
    }
   },
   "outputs": [],
   "source": [
    "import json\n",
    "import collections\n",
    "import networkx"
   ]
  },
  {
   "cell_type": "code",
   "execution_count": 14,
   "outputs": [],
   "source": [
    "def graph_prototype():\n",
    "    return {'version': 'gmxapi_graph_0_2',\n",
    "            'elements': {}}\n",
    "\n",
    "def element_prototype():\n",
    "    return {'label': None,\n",
    "            'namespace': None,\n",
    "            'operation': None,\n",
    "            'input': {},\n",
    "            'output': {},\n",
    "            'depends': [],\n",
    "            'interface': {}}"
   ],
   "metadata": {
    "collapsed": false,
    "pycharm": {
     "name": "#%%\n",
     "is_executing": false
    }
   }
  },
  {
   "cell_type": "code",
   "execution_count": 17,
   "outputs": [],
   "source": [
    "sample1 = {\n",
    "    'version': 'gmxapi_graph_0_2',\n",
    "    'elements': {\n",
    "        'integer_XXX': {\n",
    "            'label': 'my_array',\n",
    "            'namespace': 'gmxapi',\n",
    "            'operation': 'Integer',\n",
    "            'input': [[0, 1], [2, 3]],\n",
    "            'output': {\n",
    "                'meta': {\n",
    "                    'type': 'gmxapi.Integer',\n",
    "                    'shape': [2,2]\n",
    "                }\n",
    "            }\n",
    "        }\n",
    "    }\n",
    "}"
   ],
   "metadata": {
    "collapsed": false,
    "pycharm": {
     "name": "#%%\n",
     "is_executing": false
    }
   }
  },
  {
   "cell_type": "code",
   "execution_count": null,
   "outputs": [],
   "source": [
    "sample2 = {\n",
    "    'version': 'gmxapi_graph_0_2',\n",
    "    'elements': {\n",
    "        'cli_XXX': {\n",
    "            'namespace': 'gmxapi',\n",
    "            'operation': 'cli',\n",
    "            'input': [[0, 1], [2, 3]],\n",
    "            'output': {\n",
    "                'meta': {\n",
    "                    'type': 'gmxapi.Integer',\n",
    "                    'shape': [2,2]\n",
    "                }\n",
    "            }\n",
    "        }\n",
    "    }\n",
    "}"
   ],
   "metadata": {
    "collapsed": false,
    "pycharm": {
     "name": "#%%\n"
    }
   }
  },
  {
   "cell_type": "code",
   "execution_count": 15,
   "outputs": [],
   "source": [
    "class WorkGraph(collections.UserDict):\n",
    "    \"\"\"Helper class to hold a representation of a deserialized work graph.\n",
    "    \n",
    "    This is not intended to be a required part of the object model, but just a\n",
    "    tool for validation or visualization. Client code should interact with a\n",
    "    work graph through a Context. The Context is free to use an appropriate\n",
    "    internal data structure.\n",
    "    \"\"\"\n",
    "    def __init__(self):\n",
    "        super().__init__(graph_prototype())"
   ],
   "metadata": {
    "collapsed": false,
    "pycharm": {
     "name": "#%%\n",
     "is_executing": false
    }
   }
  },
  {
   "cell_type": "code",
   "execution_count": 16,
   "outputs": [],
   "source": [
    "graph = WorkGraph()\n",
    "graph['elements']['foo'] = 'bar'\n",
    "print(WorkGraph().data)"
   ],
   "metadata": {
    "collapsed": false,
    "pycharm": {
     "name": "#%%\n",
     "is_executing": false
    }
   }
  },
  {
   "cell_type": "code",
   "execution_count": null,
   "outputs": [],
   "source": [
    "# Key types\n",
    "\n",
    "class ObjectName(collections.UserString):\n",
    "    def __init__(self, name: str):\n",
    "        # TODO: validation\n",
    "        super().__init__(name)\n",
    "\n",
    "class Label(collections.UserString):\n",
    "    def __init__(self, name: str):\n",
    "        # TODO: validation\n",
    "        super().__init__(name)\n",
    "\n",
    "# Value types\n",
    "\n",
    "class Data:\n",
    "    \"\"\"Literal data for work graph input values.\n",
    "    \n",
    "    Literal data objects are dense arrays of uniform element type. \n",
    "    \"\"\"\n",
    "\n",
    "class Collection:\n",
    "    \"\"\"Value that is a nested mapping of keys to value objects.\n",
    "    \n",
    "    Keys are strings subject to the constraints of Label.\n",
    "    \n",
    "    Values are Data, Collections, or References.\n",
    "    \"\"\"\n",
    "\n",
    "class Reference:\n",
    "    \"\"\"Work record value object that is a reference to another graph entity.\"\"\""
   ],
   "metadata": {
    "collapsed": false,
    "pycharm": {
     "name": "#%%\n"
    }
   }
  },
  {
   "cell_type": "code",
   "execution_count": null,
   "outputs": [],
   "source": [
    "# Manage the structure and rules of a work record.\n",
    "import copy\n",
    "class WorkRecord(collections.UserDict):\n",
    "    def __init__(self):\n",
    "        super().__init__(graph_prototype)\n",
    "        \n",
    "    def __getitem__(self, item):\n",
    "        return copy.deepcopy(super().__getitem__(item))\n",
    "\n",
    "    def as_json(self, **kwargs):\n",
    "        import json\n",
    "        json.dumps(self.data, **kwargs)\n",
    "        "
   ],
   "metadata": {
    "collapsed": false,
    "pycharm": {
     "name": "#%%\n"
    }
   }
  },
  {
   "cell_type": "code",
   "execution_count": 4,
   "outputs": [],
   "source": [
    "record = WorkRecord()\n",
    "print(str(record))\n",
    "print(repr(record))\n",
    "print(record)"
   ],
   "metadata": {
    "collapsed": false,
    "pycharm": {
     "name": "#%%\n",
     "is_executing": false
    }
   }
  },
  {
   "cell_type": "code",
   "execution_count": 33,
   "outputs": [],
   "source": [
    "#\n",
    "import collections\n",
    "import json\n",
    "\n",
    "# The behavior of `bytes` is sufficient that a UID class is probably not necessary,\n",
    "# though we might want to guarantee that a UID is exactly 32 bytes. TBD...\n",
    "\n",
    "class Fingerprint(object):\n",
    "    import hashlib as _hashlib\n",
    "\n",
    "    def __init__(self, *, operation, input, depends = ()):\n",
    "\n",
    "        # TODO: replace (list, tuple) with abstraction for valid operation values\n",
    "        if not isinstance(operation, (list, tuple)):\n",
    "            raise ValueError('Fingerprint requires a sequence of operation name components.')\n",
    "        else:\n",
    "            self.operation = tuple(operation)\n",
    "\n",
    "        # TODO: replace (dict, str) with abstraction for valid input values.\n",
    "        if not isinstance(input, (dict, str)):\n",
    "            raise ValueError('Fingerprint requires a valid input representation.')\n",
    "        else:\n",
    "            self.input = {key: value for key, value in input.items()}\n",
    "\n",
    "        # TODO: replace (list, tuple) with abstraction for valid depends values.\n",
    "        if not isinstance(depends, (list, tuple)):\n",
    "            ValueError('Fingerprint requires a sequence for dependency specification.')\n",
    "        else:\n",
    "            self.depends = tuple(depends)\n",
    "    \n",
    "    def compact_json(self):\n",
    "        identifiers = collections.OrderedDict([\n",
    "            ('depends', self.depends),\n",
    "            ('input', self.input),\n",
    "            ('operation', self.operation)\n",
    "        ])\n",
    "        id_string = json.dumps(identifiers,separators=(',', ':'), sort_keys=True, ensure_ascii=True)\n",
    "        return id_string\n",
    "\n",
    "    def uid(self) -> bytes:\n",
    "        id_string = self.compact_json()\n",
    "        id_bytes = id_string.encode('utf-8')\n",
    "        id_hash = Fingerprint._hashlib.sha256(id_bytes)\n",
    "        size = id_hash.digest_size\n",
    "        if not size == 32:\n",
    "            raise ValueError('Expected digest_size 8, but got {}'.format(size))\n",
    "        digest = id_hash.digest()\n",
    "        assert isinstance(digest, bytes)\n",
    "        assert len(digest) == size\n",
    "        return digest\n",
    "\n",
    "\n",
    "class Integer64(object):\n",
    "    import json as _json\n",
    "    # TODO: Replace numpy dependency with memoryview manager or core gmxapi\n",
    "    #  buffer protocol provider.\n",
    "    # Note that the built-in Python array module only provides 1-dimensional arrays.\n",
    "    from numpy import array as _array\n",
    "    \n",
    "    def __init__(self, data):\n",
    "        self.data = Integer64._array(data, dtype='int64')\n",
    "    \n",
    "    def to_json(self, **json_args) -> str:\n",
    "        record = {\n",
    "            'operation': ('gmxapi', 'Integer64'),\n",
    "            'input': self.data.tolist(),\n",
    "            'depends': ()\n",
    "        }\n",
    "        serialization = Integer64._json.dumps(record, **json_args)\n",
    "        return serialization\n",
    "    \n",
    "    @classmethod\n",
    "    def from_json(cls, serialized: str):\n",
    "        record = Integer64._json.loads(serialized)\n",
    "        # if not record['operation']\n",
    "    \n",
    "    def fingerprint(self):\n",
    "        return Fingerprint(operation=['gmxapi', 'Integer'], input=self.to_json())\n",
    "\n",
    "# TODO: Probably want a generic SerializedOperation named type or abstract handling\n",
    "#  for the various ways const nodes could be passed."
   ],
   "metadata": {
    "collapsed": false,
    "pycharm": {
     "name": "#%%\n",
     "is_executing": false
    }
   }
  },
  {
   "cell_type": "code",
   "execution_count": null,
   "outputs": [],
   "source": [
    "my_array = Integer64([[1,2], [3,4]])\n",
    "fingerprint = my_array.fingerprint()\n",
    "print(fingerprint.to_json())\n",
    "\n",
    "uid = fingerprint.uid()\n",
    "print(uid.hex())\n",
    "print(int.from_bytes(uid, byteorder='big'))\n",
    "print(my_array.to_json())"
   ],
   "metadata": {
    "collapsed": false,
    "pycharm": {
     "name": "#%%\n"
    }
   }
  },
  {
   "cell_type": "code",
   "execution_count": null,
   "outputs": [],
   "source": [
    "# Test fingerprinting for Integer64\n",
    "import hashlib\n",
    "\n",
    "expected_json = '{\"depends\":[],\"input\":[[1,2],[3,4]],\"operation\":[\"gmxapi\",\"Integer64\"]}'\n",
    "expected_hash = hashlib.sha256(expected_json.encode('utf-8')).digest()\n",
    "print(expected_hash.hex())"
   ],
   "metadata": {
    "collapsed": false,
    "pycharm": {
     "name": "#%%\n"
    }
   }
  },
  {
   "cell_type": "code",
   "execution_count": null,
   "outputs": [],
   "source": [
    "# Use Python xdr module with \"network\" byte order to establish\n",
    "# base line byte sequence for fingerprinting binary data.\n",
    "#\n",
    "# Let native data be established through transformations of the base line.\n",
    "# \n",
    "# Automatically generate reverse transformation and fingerprint so that later\n",
    "# transformations can be performed at minimal cost."
   ],
   "metadata": {
    "collapsed": false,
    "pycharm": {
     "name": "#%%\n"
    }
   }
  },
  {
   "cell_type": "code",
   "execution_count": 34,
   "outputs": [],
   "source": [
    "# Use Python xdr module with \"network\" byte order to establish\n",
    "# base line byte sequence for fingerprinting binary data.\n",
    "#\n",
    "# Let native data be established through transformations of the base line.\n",
    "# \n",
    "# Automatically generate reverse transformation and fingerprint so that later\n",
    "# transformations can be performed at minimal cost."
   ],
   "metadata": {
    "collapsed": false,
    "pycharm": {
     "name": "#%%\n",
     "is_executing": false
    }
   }
  },
  {
   "cell_type": "code",
   "execution_count": 32,
   "outputs": [],
   "source": [
    "# Test fingerprinting for Integer64\n",
    "import hashlib\n",
    "\n",
    "expected_json = '{\"depends\":[],\"input\":[[1,2],[3,4]],\"operation\":[\"gmxapi\",\"Integer64\"]}'\n",
    "expected_hash = hashlib.sha256(expected_json.encode('utf-8')).digest()\n",
    "print(expected_hash.hex())"
   ],
   "metadata": {
    "collapsed": false,
    "pycharm": {
     "name": "#%%\n",
     "is_executing": false
    }
   }
  },
  {
   "cell_type": "code",
   "execution_count": null,
   "outputs": [],
   "source": [
    "# Use Python xdr module with \"network\" byte order to establish\n",
    "# base line byte sequence for fingerprinting binary data.\n",
    "#\n",
    "# Let native data be established through transformations of the base line.\n",
    "# \n",
    "# Automatically generate reverse transformation and fingerprint so that later\n",
    "# transformations can be performed at minimal cost."
   ],
   "metadata": {
    "collapsed": false,
    "pycharm": {
     "name": "#%%\n"
    }
   }
  }
 ],
 "metadata": {
  "kernelspec": {
   "display_name": "Python 3",
   "language": "python",
   "name": "python3"
  },
  "language_info": {
   "codemirror_mode": {
    "name": "ipython",
    "version": 2
   },
   "file_extension": ".py",
   "mimetype": "text/x-python",
   "name": "python",
   "nbconvert_exporter": "python",
   "pygments_lexer": "ipython2",
   "version": "2.7.6"
  },
  "pycharm": {
   "stem_cell": {
    "cell_type": "raw",
    "source": [],
    "metadata": {
     "collapsed": false
    }
   }
  }
 },
 "nbformat": 4,
 "nbformat_minor": 0
}