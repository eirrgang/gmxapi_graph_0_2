{
 "cells": [
  {
   "cell_type": "code",
   "execution_count": 2,
   "metadata": {
    "collapsed": true,
    "pycharm": {
     "is_executing": false
    }
   },
   "outputs": [],
   "source": [
    "import json\n",
    "import collections\n",
    "import networkx"
   ]
  },
  {
   "cell_type": "code",
   "execution_count": 14,
   "outputs": [],
   "source": [
    "def graph_prototype():\n",
    "    return {'version': 'gmxapi_graph_0_2',\n",
    "            'elements': {}}\n",
    "\n",
    "def element_prototype():\n",
    "    return {'label': None,\n",
    "            'namespace': None,\n",
    "            'operation': None,\n",
    "            'input': {},\n",
    "            'output': {},\n",
    "            'depends': [],\n",
    "            'interface': {}}"
   ],
   "metadata": {
    "collapsed": false,
    "pycharm": {
     "name": "#%%\n",
     "is_executing": false
    }
   }
  },
  {
   "cell_type": "code",
   "execution_count": 17,
   "outputs": [],
   "source": [
    "sample1 = {\n",
    "    'version': 'gmxapi_graph_0_2',\n",
    "    'elements': {\n",
    "        'integer_XXX': {\n",
    "            'label': 'my_array',\n",
    "            'namespace': 'gmxapi',\n",
    "            'operation': 'Integer',\n",
    "            'input': [[0, 1], [2, 3]],\n",
    "            'output': {\n",
    "                'meta': {\n",
    "                    'type': 'gmxapi.Integer',\n",
    "                    'shape': [2,2]\n",
    "                }\n",
    "            }\n",
    "        }\n",
    "    }\n",
    "}"
   ],
   "metadata": {
    "collapsed": false,
    "pycharm": {
     "name": "#%%\n",
     "is_executing": false
    }
   }
  },
  {
   "cell_type": "code",
   "execution_count": null,
   "outputs": [],
   "source": [
    "sample2 = {\n",
    "    'version': 'gmxapi_graph_0_2',\n",
    "    'elements': {\n",
    "        'cli_XXX': {\n",
    "            'namespace': 'gmxapi',\n",
    "            'operation': 'cli',\n",
    "            'input': [[0, 1], [2, 3]],\n",
    "            'output': {\n",
    "                'meta': {\n",
    "                    'type': 'gmxapi.Integer',\n",
    "                    'shape': [2,2]\n",
    "                }\n",
    "            }\n",
    "        }\n",
    "    }\n",
    "}"
   ],
   "metadata": {
    "collapsed": false,
    "pycharm": {
     "name": "#%%\n"
    }
   }
  },
  {
   "cell_type": "code",
   "execution_count": 15,
   "outputs": [],
   "source": [
    "class WorkGraph(collections.UserDict):\n",
    "    \"\"\"Helper class to hold a representation of a deserialized work graph.\n",
    "    \n",
    "    This is not intended to be a required part of the object model, but just a\n",
    "    tool for validation or visualization. Client code should interact with a\n",
    "    work graph through a Context. The Context is free to use an appropriate\n",
    "    internal data structure.\n",
    "    \"\"\"\n",
    "    def __init__(self):\n",
    "        super().__init__(graph_prototype())"
   ],
   "metadata": {
    "collapsed": false,
    "pycharm": {
     "name": "#%%\n",
     "is_executing": false
    }
   }
  },
  {
   "cell_type": "code",
   "execution_count": 16,
   "outputs": [],
   "source": [
    "graph = WorkGraph()\n",
    "graph['elements']['foo'] = 'bar'\n",
    "print(WorkGraph().data)"
   ],
   "metadata": {
    "collapsed": false,
    "pycharm": {
     "name": "#%%\n",
     "is_executing": false
    }
   }
  },
  {
   "cell_type": "code",
   "execution_count": null,
   "outputs": [],
   "source": [
    "# Key types\n",
    "\n",
    "class ObjectName(collections.UserString):\n",
    "    def __init__(self, name: str):\n",
    "        # TODO: validation\n",
    "        super().__init__(name)\n",
    "\n",
    "class Label(collections.UserString):\n",
    "    def __init__(self, name: str):\n",
    "        # TODO: validation\n",
    "        super().__init__(name)\n",
    "\n",
    "# Value types\n",
    "\n",
    "class Data:\n",
    "    \"\"\"Literal data for work graph input values.\n",
    "    \n",
    "    Literal data objects are dense arrays of uniform element type. \n",
    "    \"\"\"\n",
    "\n",
    "class Collection:\n",
    "    \"\"\"Value that is a nested mapping of keys to value objects.\n",
    "    \n",
    "    Keys are strings subject to the constraints of Label.\n",
    "    \n",
    "    Values are Data, Collections, or References.\n",
    "    \"\"\"\n",
    "\n",
    "class Reference:\n",
    "    \"\"\"Work record value object that is a reference to another graph entity.\"\"\""
   ],
   "metadata": {
    "collapsed": false,
    "pycharm": {
     "name": "#%%\n"
    }
   }
  },
  {
   "cell_type": "code",
   "execution_count": null,
   "outputs": [],
   "source": [
    "# Manage the structure and rules of a work record.\n",
    "import copy\n",
    "class WorkRecord(collections.UserDict):\n",
    "    def __init__(self):\n",
    "        super().__init__(graph_prototype)\n",
    "        \n",
    "    def __getitem__(self, item):\n",
    "        return copy.deepcopy(super().__getitem__(item))\n",
    "\n",
    "    def as_json(self, **kwargs):\n",
    "        import json\n",
    "        json.dumps(self.data, **kwargs)\n",
    "        "
   ],
   "metadata": {
    "collapsed": false,
    "pycharm": {
     "name": "#%%\n"
    }
   }
  },
  {
   "cell_type": "code",
   "execution_count": 4,
   "outputs": [],
   "source": [
    "record = WorkRecord()\n",
    "print(str(record))\n",
    "print(repr(record))\n",
    "print(record)"
   ],
   "metadata": {
    "collapsed": false,
    "pycharm": {
     "name": "#%%\n",
     "is_executing": false
    }
   }
  },
  {
   "cell_type": "code",
   "execution_count": null,
   "outputs": [],
   "source": [],
   "metadata": {
    "collapsed": false,
    "pycharm": {
     "name": "#%%\n"
    }
   }
  }
 ],
 "metadata": {
  "kernelspec": {
   "display_name": "Python 3",
   "language": "python",
   "name": "python3"
  },
  "language_info": {
   "codemirror_mode": {
    "name": "ipython",
    "version": 2
   },
   "file_extension": ".py",
   "mimetype": "text/x-python",
   "name": "python",
   "nbconvert_exporter": "python",
   "pygments_lexer": "ipython2",
   "version": "2.7.6"
  },
  "pycharm": {
   "stem_cell": {
    "cell_type": "raw",
    "source": [],
    "metadata": {
     "collapsed": false
    }
   }
  }
 },
 "nbformat": 4,
 "nbformat_minor": 0
}